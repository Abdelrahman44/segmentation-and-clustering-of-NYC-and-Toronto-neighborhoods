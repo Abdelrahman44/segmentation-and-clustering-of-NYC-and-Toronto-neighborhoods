{
 "cells": [
  {
   "cell_type": "markdown",
   "metadata": {},
   "source": [
    "# Notebook for final pfoject of IBM's professional Data Science specialization"
   ]
  },
  {
   "cell_type": "code",
   "execution_count": 1,
   "metadata": {},
   "outputs": [],
   "source": [
    "import pandas as pd\n",
    "import numpy as np\n",
    "from pandas.io.html import read_html"
   ]
  },
  {
   "cell_type": "code",
   "execution_count": 2,
   "metadata": {},
   "outputs": [],
   "source": [
    "import json # library to handle JSON files\n",
    "\n",
    "from geopy.geocoders import Nominatim # convert an address into latitude and longitude values\n",
    "\n",
    "import requests # library to handle requests\n",
    "from pandas.io.json import json_normalize # tranform JSON file into a pandas dataframe\n",
    "\n",
    "import matplotlib.cm as cm\n",
    "import matplotlib.colors as colors\n",
    "\n",
    "from sklearn.cluster import KMeans\n",
    "\n",
    "import folium # map rendering library"
   ]
  },
  {
   "cell_type": "code",
   "execution_count": 3,
   "metadata": {},
   "outputs": [],
   "source": [
    "page = 'https://en.wikipedia.org/wiki/List_of_postal_codes_of_Canada:_M'\n",
    "DFs = read_html(page, match='Borough', header=0) # a list of dataframes\n",
    "df = DFs[0]#getting the dataframe frm the list"
   ]
  },
  {
   "cell_type": "markdown",
   "metadata": {},
   "source": [
    "### Exploring the data:"
   ]
  },
  {
   "cell_type": "code",
   "execution_count": 7,
   "metadata": {},
   "outputs": [
    {
     "data": {
      "text/html": [
       "<div>\n",
       "<style scoped>\n",
       "    .dataframe tbody tr th:only-of-type {\n",
       "        vertical-align: middle;\n",
       "    }\n",
       "\n",
       "    .dataframe tbody tr th {\n",
       "        vertical-align: top;\n",
       "    }\n",
       "\n",
       "    .dataframe thead th {\n",
       "        text-align: right;\n",
       "    }\n",
       "</style>\n",
       "<table border=\"1\" class=\"dataframe\">\n",
       "  <thead>\n",
       "    <tr style=\"text-align: right;\">\n",
       "      <th></th>\n",
       "      <th>Postcode</th>\n",
       "      <th>Borough</th>\n",
       "      <th>Neighbourhood</th>\n",
       "    </tr>\n",
       "  </thead>\n",
       "  <tbody>\n",
       "    <tr>\n",
       "      <th>count</th>\n",
       "      <td>288</td>\n",
       "      <td>288</td>\n",
       "      <td>288</td>\n",
       "    </tr>\n",
       "    <tr>\n",
       "      <th>unique</th>\n",
       "      <td>180</td>\n",
       "      <td>12</td>\n",
       "      <td>209</td>\n",
       "    </tr>\n",
       "    <tr>\n",
       "      <th>top</th>\n",
       "      <td>M9V</td>\n",
       "      <td>Not assigned</td>\n",
       "      <td>Not assigned</td>\n",
       "    </tr>\n",
       "    <tr>\n",
       "      <th>freq</th>\n",
       "      <td>8</td>\n",
       "      <td>77</td>\n",
       "      <td>78</td>\n",
       "    </tr>\n",
       "  </tbody>\n",
       "</table>\n",
       "</div>"
      ],
      "text/plain": [
       "       Postcode       Borough Neighbourhood\n",
       "count       288           288           288\n",
       "unique      180            12           209\n",
       "top         M9V  Not assigned  Not assigned\n",
       "freq          8            77            78"
      ]
     },
     "execution_count": 7,
     "metadata": {},
     "output_type": "execute_result"
    }
   ],
   "source": [
    "df.describe()"
   ]
  },
  {
   "cell_type": "code",
   "execution_count": 18,
   "metadata": {},
   "outputs": [
    {
     "name": "stdout",
     "output_type": "stream",
     "text": [
      "not assigned boroughs:  77\n",
      "not assigned neighbourhoods:  78\n"
     ]
    }
   ],
   "source": [
    "print('not assigned boroughs: ', df.loc[df.Borough == 'Not assigned', 'Borough'].count())\n",
    "print('not assigned neighbourhoods: ', df.loc[df.Neighbourhood == 'Not assigned', 'Neighbourhood'].count())"
   ]
  },
  {
   "cell_type": "markdown",
   "metadata": {},
   "source": [
    "### Ignore cells with a borough that is Not assigned:"
   ]
  },
  {
   "cell_type": "code",
   "execution_count": 19,
   "metadata": {},
   "outputs": [],
   "source": [
    "df.Borough.replace('Not assigned', np.nan, inplace=True)"
   ]
  },
  {
   "cell_type": "code",
   "execution_count": 21,
   "metadata": {},
   "outputs": [
    {
     "name": "stdout",
     "output_type": "stream",
     "text": [
      "not assigned boroughs:  0\n"
     ]
    }
   ],
   "source": [
    "df.dropna(subset=['Borough'], inplace=True)\n",
    "print('not assigned boroughs: ', df.loc[df.Borough == 'Not assigned', 'Borough'].count())"
   ]
  },
  {
   "cell_type": "markdown",
   "metadata": {},
   "source": [
    "### grouping repeated neighbourhoods/postcode:"
   ]
  },
  {
   "cell_type": "code",
   "execution_count": 22,
   "metadata": {},
   "outputs": [],
   "source": [
    "df.set_index(['Postcode', 'Borough'], inplace=True)"
   ]
  },
  {
   "cell_type": "code",
   "execution_count": 23,
   "metadata": {},
   "outputs": [
    {
     "data": {
      "text/html": [
       "<div>\n",
       "<style scoped>\n",
       "    .dataframe tbody tr th:only-of-type {\n",
       "        vertical-align: middle;\n",
       "    }\n",
       "\n",
       "    .dataframe tbody tr th {\n",
       "        vertical-align: top;\n",
       "    }\n",
       "\n",
       "    .dataframe thead th {\n",
       "        text-align: right;\n",
       "    }\n",
       "</style>\n",
       "<table border=\"1\" class=\"dataframe\">\n",
       "  <thead>\n",
       "    <tr style=\"text-align: right;\">\n",
       "      <th></th>\n",
       "      <th></th>\n",
       "      <th>Neighbourhood</th>\n",
       "    </tr>\n",
       "    <tr>\n",
       "      <th>Postcode</th>\n",
       "      <th>Borough</th>\n",
       "      <th></th>\n",
       "    </tr>\n",
       "  </thead>\n",
       "  <tbody>\n",
       "    <tr>\n",
       "      <th>M1B</th>\n",
       "      <th>Scarborough</th>\n",
       "      <td>Rouge,Malvern</td>\n",
       "    </tr>\n",
       "    <tr>\n",
       "      <th>M1C</th>\n",
       "      <th>Scarborough</th>\n",
       "      <td>Highland Creek,Rouge Hill,Port Union</td>\n",
       "    </tr>\n",
       "    <tr>\n",
       "      <th>M1E</th>\n",
       "      <th>Scarborough</th>\n",
       "      <td>Guildwood,Morningside,West Hill</td>\n",
       "    </tr>\n",
       "    <tr>\n",
       "      <th>M1G</th>\n",
       "      <th>Scarborough</th>\n",
       "      <td>Woburn</td>\n",
       "    </tr>\n",
       "    <tr>\n",
       "      <th>M1H</th>\n",
       "      <th>Scarborough</th>\n",
       "      <td>Cedarbrae</td>\n",
       "    </tr>\n",
       "    <tr>\n",
       "      <th>M1J</th>\n",
       "      <th>Scarborough</th>\n",
       "      <td>Scarborough Village</td>\n",
       "    </tr>\n",
       "    <tr>\n",
       "      <th>M1K</th>\n",
       "      <th>Scarborough</th>\n",
       "      <td>East Birchmount Park,Ionview,Kennedy Park</td>\n",
       "    </tr>\n",
       "    <tr>\n",
       "      <th>M1L</th>\n",
       "      <th>Scarborough</th>\n",
       "      <td>Clairlea,Golden Mile,Oakridge</td>\n",
       "    </tr>\n",
       "    <tr>\n",
       "      <th>M1M</th>\n",
       "      <th>Scarborough</th>\n",
       "      <td>Cliffcrest,Cliffside,Scarborough Village West</td>\n",
       "    </tr>\n",
       "    <tr>\n",
       "      <th>M1N</th>\n",
       "      <th>Scarborough</th>\n",
       "      <td>Birch Cliff,Cliffside West</td>\n",
       "    </tr>\n",
       "    <tr>\n",
       "      <th>M1P</th>\n",
       "      <th>Scarborough</th>\n",
       "      <td>Dorset Park,Scarborough Town Centre,Wexford He...</td>\n",
       "    </tr>\n",
       "    <tr>\n",
       "      <th>M1R</th>\n",
       "      <th>Scarborough</th>\n",
       "      <td>Maryvale,Wexford</td>\n",
       "    </tr>\n",
       "    <tr>\n",
       "      <th>M1S</th>\n",
       "      <th>Scarborough</th>\n",
       "      <td>Agincourt</td>\n",
       "    </tr>\n",
       "    <tr>\n",
       "      <th>M1T</th>\n",
       "      <th>Scarborough</th>\n",
       "      <td>Clarks Corners,Sullivan,Tam O'Shanter</td>\n",
       "    </tr>\n",
       "    <tr>\n",
       "      <th>M1V</th>\n",
       "      <th>Scarborough</th>\n",
       "      <td>Agincourt North,L'Amoreaux East,Milliken,Steel...</td>\n",
       "    </tr>\n",
       "    <tr>\n",
       "      <th>M1W</th>\n",
       "      <th>Scarborough</th>\n",
       "      <td>L'Amoreaux West</td>\n",
       "    </tr>\n",
       "    <tr>\n",
       "      <th>M1X</th>\n",
       "      <th>Scarborough</th>\n",
       "      <td>Upper Rouge</td>\n",
       "    </tr>\n",
       "    <tr>\n",
       "      <th>M2H</th>\n",
       "      <th>North York</th>\n",
       "      <td>Hillcrest Village</td>\n",
       "    </tr>\n",
       "    <tr>\n",
       "      <th>M2J</th>\n",
       "      <th>North York</th>\n",
       "      <td>Fairview,Henry Farm,Oriole</td>\n",
       "    </tr>\n",
       "    <tr>\n",
       "      <th>M2K</th>\n",
       "      <th>North York</th>\n",
       "      <td>Bayview Village</td>\n",
       "    </tr>\n",
       "    <tr>\n",
       "      <th>M2L</th>\n",
       "      <th>North York</th>\n",
       "      <td>Silver Hills,York Mills</td>\n",
       "    </tr>\n",
       "    <tr>\n",
       "      <th>M2M</th>\n",
       "      <th>North York</th>\n",
       "      <td>Newtonbrook,Willowdale</td>\n",
       "    </tr>\n",
       "    <tr>\n",
       "      <th>M2N</th>\n",
       "      <th>North York</th>\n",
       "      <td>Willowdale South</td>\n",
       "    </tr>\n",
       "    <tr>\n",
       "      <th>M2P</th>\n",
       "      <th>North York</th>\n",
       "      <td>York Mills West</td>\n",
       "    </tr>\n",
       "    <tr>\n",
       "      <th>M2R</th>\n",
       "      <th>North York</th>\n",
       "      <td>Willowdale West</td>\n",
       "    </tr>\n",
       "    <tr>\n",
       "      <th>M3A</th>\n",
       "      <th>North York</th>\n",
       "      <td>Parkwoods</td>\n",
       "    </tr>\n",
       "    <tr>\n",
       "      <th>M3B</th>\n",
       "      <th>North York</th>\n",
       "      <td>Don Mills North</td>\n",
       "    </tr>\n",
       "    <tr>\n",
       "      <th>M3C</th>\n",
       "      <th>North York</th>\n",
       "      <td>Flemingdon Park,Don Mills South</td>\n",
       "    </tr>\n",
       "    <tr>\n",
       "      <th>M3H</th>\n",
       "      <th>North York</th>\n",
       "      <td>Bathurst Manor,Downsview North,Wilson Heights</td>\n",
       "    </tr>\n",
       "    <tr>\n",
       "      <th>M3J</th>\n",
       "      <th>North York</th>\n",
       "      <td>Northwood Park,York University</td>\n",
       "    </tr>\n",
       "    <tr>\n",
       "      <th>...</th>\n",
       "      <th>...</th>\n",
       "      <td>...</td>\n",
       "    </tr>\n",
       "    <tr>\n",
       "      <th>M6C</th>\n",
       "      <th>York</th>\n",
       "      <td>Humewood-Cedarvale</td>\n",
       "    </tr>\n",
       "    <tr>\n",
       "      <th>M6E</th>\n",
       "      <th>York</th>\n",
       "      <td>Caledonia-Fairbanks</td>\n",
       "    </tr>\n",
       "    <tr>\n",
       "      <th>M6G</th>\n",
       "      <th>Downtown Toronto</th>\n",
       "      <td>Christie</td>\n",
       "    </tr>\n",
       "    <tr>\n",
       "      <th>M6H</th>\n",
       "      <th>West Toronto</th>\n",
       "      <td>Dovercourt Village,Dufferin</td>\n",
       "    </tr>\n",
       "    <tr>\n",
       "      <th>M6J</th>\n",
       "      <th>West Toronto</th>\n",
       "      <td>Little Portugal,Trinity</td>\n",
       "    </tr>\n",
       "    <tr>\n",
       "      <th>M6K</th>\n",
       "      <th>West Toronto</th>\n",
       "      <td>Brockton,Exhibition Place,Parkdale Village</td>\n",
       "    </tr>\n",
       "    <tr>\n",
       "      <th>M6L</th>\n",
       "      <th>North York</th>\n",
       "      <td>Downsview,North Park,Upwood Park</td>\n",
       "    </tr>\n",
       "    <tr>\n",
       "      <th>M6M</th>\n",
       "      <th>York</th>\n",
       "      <td>Del Ray,Keelesdale,Mount Dennis,Silverthorn</td>\n",
       "    </tr>\n",
       "    <tr>\n",
       "      <th>M6N</th>\n",
       "      <th>York</th>\n",
       "      <td>The Junction North,Runnymede</td>\n",
       "    </tr>\n",
       "    <tr>\n",
       "      <th>M6P</th>\n",
       "      <th>West Toronto</th>\n",
       "      <td>High Park,The Junction South</td>\n",
       "    </tr>\n",
       "    <tr>\n",
       "      <th>M6R</th>\n",
       "      <th>West Toronto</th>\n",
       "      <td>Parkdale,Roncesvalles</td>\n",
       "    </tr>\n",
       "    <tr>\n",
       "      <th>M6S</th>\n",
       "      <th>West Toronto</th>\n",
       "      <td>Runnymede,Swansea</td>\n",
       "    </tr>\n",
       "    <tr>\n",
       "      <th>M7A</th>\n",
       "      <th>Queen's Park</th>\n",
       "      <td>Not assigned</td>\n",
       "    </tr>\n",
       "    <tr>\n",
       "      <th>M7R</th>\n",
       "      <th>Mississauga</th>\n",
       "      <td>Canada Post Gateway Processing Centre</td>\n",
       "    </tr>\n",
       "    <tr>\n",
       "      <th>M7Y</th>\n",
       "      <th>East Toronto</th>\n",
       "      <td>Business Reply Mail Processing Centre 969 Eastern</td>\n",
       "    </tr>\n",
       "    <tr>\n",
       "      <th>M8V</th>\n",
       "      <th>Etobicoke</th>\n",
       "      <td>Humber Bay Shores,Mimico South,New Toronto</td>\n",
       "    </tr>\n",
       "    <tr>\n",
       "      <th>M8W</th>\n",
       "      <th>Etobicoke</th>\n",
       "      <td>Alderwood,Long Branch</td>\n",
       "    </tr>\n",
       "    <tr>\n",
       "      <th>M8X</th>\n",
       "      <th>Etobicoke</th>\n",
       "      <td>The Kingsway,Montgomery Road,Old Mill North</td>\n",
       "    </tr>\n",
       "    <tr>\n",
       "      <th>M8Y</th>\n",
       "      <th>Etobicoke</th>\n",
       "      <td>Humber Bay,King's Mill Park,Kingsway Park Sout...</td>\n",
       "    </tr>\n",
       "    <tr>\n",
       "      <th>M8Z</th>\n",
       "      <th>Etobicoke</th>\n",
       "      <td>Kingsway Park South West,Mimico NW,The Queensw...</td>\n",
       "    </tr>\n",
       "    <tr>\n",
       "      <th>M9A</th>\n",
       "      <th>Etobicoke</th>\n",
       "      <td>Islington Avenue</td>\n",
       "    </tr>\n",
       "    <tr>\n",
       "      <th>M9B</th>\n",
       "      <th>Etobicoke</th>\n",
       "      <td>Cloverdale,Islington,Martin Grove,Princess Gar...</td>\n",
       "    </tr>\n",
       "    <tr>\n",
       "      <th>M9C</th>\n",
       "      <th>Etobicoke</th>\n",
       "      <td>Bloordale Gardens,Eringate,Markland Wood,Old B...</td>\n",
       "    </tr>\n",
       "    <tr>\n",
       "      <th>M9L</th>\n",
       "      <th>North York</th>\n",
       "      <td>Humber Summit</td>\n",
       "    </tr>\n",
       "    <tr>\n",
       "      <th>M9M</th>\n",
       "      <th>North York</th>\n",
       "      <td>Emery,Humberlea</td>\n",
       "    </tr>\n",
       "    <tr>\n",
       "      <th>M9N</th>\n",
       "      <th>York</th>\n",
       "      <td>Weston</td>\n",
       "    </tr>\n",
       "    <tr>\n",
       "      <th>M9P</th>\n",
       "      <th>Etobicoke</th>\n",
       "      <td>Westmount</td>\n",
       "    </tr>\n",
       "    <tr>\n",
       "      <th>M9R</th>\n",
       "      <th>Etobicoke</th>\n",
       "      <td>Kingsview Village,Martin Grove Gardens,Richvie...</td>\n",
       "    </tr>\n",
       "    <tr>\n",
       "      <th>M9V</th>\n",
       "      <th>Etobicoke</th>\n",
       "      <td>Albion Gardens,Beaumond Heights,Humbergate,Jam...</td>\n",
       "    </tr>\n",
       "    <tr>\n",
       "      <th>M9W</th>\n",
       "      <th>Etobicoke</th>\n",
       "      <td>Northwest</td>\n",
       "    </tr>\n",
       "  </tbody>\n",
       "</table>\n",
       "<p>103 rows × 1 columns</p>\n",
       "</div>"
      ],
      "text/plain": [
       "                                                               Neighbourhood\n",
       "Postcode Borough                                                            \n",
       "M1B      Scarborough                                           Rouge,Malvern\n",
       "M1C      Scarborough                    Highland Creek,Rouge Hill,Port Union\n",
       "M1E      Scarborough                         Guildwood,Morningside,West Hill\n",
       "M1G      Scarborough                                                  Woburn\n",
       "M1H      Scarborough                                               Cedarbrae\n",
       "M1J      Scarborough                                     Scarborough Village\n",
       "M1K      Scarborough               East Birchmount Park,Ionview,Kennedy Park\n",
       "M1L      Scarborough                           Clairlea,Golden Mile,Oakridge\n",
       "M1M      Scarborough           Cliffcrest,Cliffside,Scarborough Village West\n",
       "M1N      Scarborough                              Birch Cliff,Cliffside West\n",
       "M1P      Scarborough       Dorset Park,Scarborough Town Centre,Wexford He...\n",
       "M1R      Scarborough                                        Maryvale,Wexford\n",
       "M1S      Scarborough                                               Agincourt\n",
       "M1T      Scarborough                   Clarks Corners,Sullivan,Tam O'Shanter\n",
       "M1V      Scarborough       Agincourt North,L'Amoreaux East,Milliken,Steel...\n",
       "M1W      Scarborough                                         L'Amoreaux West\n",
       "M1X      Scarborough                                             Upper Rouge\n",
       "M2H      North York                                        Hillcrest Village\n",
       "M2J      North York                               Fairview,Henry Farm,Oriole\n",
       "M2K      North York                                          Bayview Village\n",
       "M2L      North York                                  Silver Hills,York Mills\n",
       "M2M      North York                                   Newtonbrook,Willowdale\n",
       "M2N      North York                                         Willowdale South\n",
       "M2P      North York                                          York Mills West\n",
       "M2R      North York                                          Willowdale West\n",
       "M3A      North York                                                Parkwoods\n",
       "M3B      North York                                          Don Mills North\n",
       "M3C      North York                          Flemingdon Park,Don Mills South\n",
       "M3H      North York            Bathurst Manor,Downsview North,Wilson Heights\n",
       "M3J      North York                           Northwood Park,York University\n",
       "...                                                                      ...\n",
       "M6C      York                                             Humewood-Cedarvale\n",
       "M6E      York                                            Caledonia-Fairbanks\n",
       "M6G      Downtown Toronto                                           Christie\n",
       "M6H      West Toronto                            Dovercourt Village,Dufferin\n",
       "M6J      West Toronto                                Little Portugal,Trinity\n",
       "M6K      West Toronto             Brockton,Exhibition Place,Parkdale Village\n",
       "M6L      North York                         Downsview,North Park,Upwood Park\n",
       "M6M      York                    Del Ray,Keelesdale,Mount Dennis,Silverthorn\n",
       "M6N      York                                   The Junction North,Runnymede\n",
       "M6P      West Toronto                           High Park,The Junction South\n",
       "M6R      West Toronto                                  Parkdale,Roncesvalles\n",
       "M6S      West Toronto                                      Runnymede,Swansea\n",
       "M7A      Queen's Park                                           Not assigned\n",
       "M7R      Mississauga                   Canada Post Gateway Processing Centre\n",
       "M7Y      East Toronto      Business Reply Mail Processing Centre 969 Eastern\n",
       "M8V      Etobicoke                Humber Bay Shores,Mimico South,New Toronto\n",
       "M8W      Etobicoke                                     Alderwood,Long Branch\n",
       "M8X      Etobicoke               The Kingsway,Montgomery Road,Old Mill North\n",
       "M8Y      Etobicoke         Humber Bay,King's Mill Park,Kingsway Park Sout...\n",
       "M8Z      Etobicoke         Kingsway Park South West,Mimico NW,The Queensw...\n",
       "M9A      Etobicoke                                          Islington Avenue\n",
       "M9B      Etobicoke         Cloverdale,Islington,Martin Grove,Princess Gar...\n",
       "M9C      Etobicoke         Bloordale Gardens,Eringate,Markland Wood,Old B...\n",
       "M9L      North York                                            Humber Summit\n",
       "M9M      North York                                          Emery,Humberlea\n",
       "M9N      York                                                         Weston\n",
       "M9P      Etobicoke                                                 Westmount\n",
       "M9R      Etobicoke         Kingsview Village,Martin Grove Gardens,Richvie...\n",
       "M9V      Etobicoke         Albion Gardens,Beaumond Heights,Humbergate,Jam...\n",
       "M9W      Etobicoke                                                 Northwest\n",
       "\n",
       "[103 rows x 1 columns]"
      ]
     },
     "execution_count": 23,
     "metadata": {},
     "output_type": "execute_result"
    }
   ],
   "source": [
    "df.groupby(level=['Postcode','Borough']).agg(','.join)"
   ]
  },
  {
   "cell_type": "markdown",
   "metadata": {},
   "source": [
    "### processing not assigned neighbourhoods:"
   ]
  },
  {
   "cell_type": "code",
   "execution_count": 27,
   "metadata": {},
   "outputs": [
    {
     "data": {
      "text/plain": [
       "Index(['Postcode', 'Borough', 'Neighbourhood'], dtype='object')"
      ]
     },
     "execution_count": 27,
     "metadata": {},
     "output_type": "execute_result"
    }
   ],
   "source": [
    "df.reset_index(inplace=True)\n",
    "df.columns"
   ]
  },
  {
   "cell_type": "code",
   "execution_count": 29,
   "metadata": {},
   "outputs": [
    {
     "name": "stdout",
     "output_type": "stream",
     "text": [
      "not assigned neighbourhoods:  1\n"
     ]
    }
   ],
   "source": [
    "print('not assigned neighbourhoods: ', df.loc[df.Neighbourhood == 'Not assigned', 'Neighbourhood'].count())\n"
   ]
  },
  {
   "cell_type": "code",
   "execution_count": 30,
   "metadata": {},
   "outputs": [
    {
     "data": {
      "text/plain": [
       "6    Queen's Park\n",
       "Name: Borough, dtype: object"
      ]
     },
     "execution_count": 30,
     "metadata": {},
     "output_type": "execute_result"
    }
   ],
   "source": [
    "df.loc[df.Neighbourhood == 'Not assigned', 'Borough']"
   ]
  },
  {
   "cell_type": "code",
   "execution_count": 32,
   "metadata": {},
   "outputs": [],
   "source": [
    "df.at[85, 'Neighbourhood'] = 'Queen\\'s park'"
   ]
  },
  {
   "cell_type": "code",
   "execution_count": 34,
   "metadata": {},
   "outputs": [
    {
     "data": {
      "text/plain": [
       "(211, 3)"
      ]
     },
     "execution_count": 34,
     "metadata": {},
     "output_type": "execute_result"
    }
   ],
   "source": [
    "df.shape"
   ]
  },
  {
   "cell_type": "code",
   "execution_count": null,
   "metadata": {},
   "outputs": [],
   "source": []
  }
 ],
 "metadata": {
  "kernelspec": {
   "display_name": "Python 3",
   "language": "python",
   "name": "python3"
  },
  "language_info": {
   "codemirror_mode": {
    "name": "ipython",
    "version": 3
   },
   "file_extension": ".py",
   "mimetype": "text/x-python",
   "name": "python",
   "nbconvert_exporter": "python",
   "pygments_lexer": "ipython3",
   "version": "3.6.5"
  }
 },
 "nbformat": 4,
 "nbformat_minor": 2
}
